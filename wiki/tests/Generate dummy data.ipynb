{
 "cells": [
  {
   "cell_type": "code",
   "execution_count": 15,
   "id": "9df66acd",
   "metadata": {},
   "outputs": [
    {
     "name": "stdout",
     "output_type": "stream",
     "text": [
      "Collecting Faker\n",
      "  Obtaining dependency information for Faker from https://files.pythonhosted.org/packages/70/2a/479c5479bcc3ea7d82e34d3b4541dc456a29192ab5298af4887055f7f816/Faker-25.0.0-py3-none-any.whl.metadata\n",
      "  Downloading Faker-25.0.0-py3-none-any.whl.metadata (15 kB)\n",
      "Requirement already satisfied: python-dateutil>=2.4 in /Users/h.j.m.tummers/anaconda3/lib/python3.11/site-packages (from Faker) (2.8.2)\n",
      "Requirement already satisfied: six>=1.5 in /Users/h.j.m.tummers/anaconda3/lib/python3.11/site-packages (from python-dateutil>=2.4->Faker) (1.16.0)\n",
      "Downloading Faker-25.0.0-py3-none-any.whl (1.8 MB)\n",
      "\u001b[2K   \u001b[90m━━━━━━━━━━━━━━━━━━━━━━━━━━━━━━━━━━━━━━━━\u001b[0m \u001b[32m1.8/1.8 MB\u001b[0m \u001b[31m13.6 MB/s\u001b[0m eta \u001b[36m0:00:00\u001b[0ma \u001b[36m0:00:01\u001b[0m\n",
      "\u001b[?25hInstalling collected packages: Faker\n",
      "Successfully installed Faker-25.0.0\n",
      "Note: you may need to restart the kernel to use updated packages.\n"
     ]
    }
   ],
   "source": [
    "pip install Faker\n",
    "pip install openai"
   ]
  },
  {
   "cell_type": "markdown",
   "id": "3ffff888",
   "metadata": {},
   "source": [
    "# Genereer namen, tijdstippen en zorgverlener IDs"
   ]
  },
  {
   "cell_type": "code",
   "execution_count": 2,
   "id": "d188ed0f",
   "metadata": {},
   "outputs": [
    {
     "name": "stdout",
     "output_type": "stream",
     "text": [
      "          Cliëntnaam          Tijdstip Zorgverlener ID\n",
      "0  Noortje van Boven  2021-08-30 13:59           ZV104\n",
      "1  Noortje van Boven  2022-08-04 21:44           ZV104\n",
      "2  Noortje van Boven  2023-08-31 22:19           ZV101\n"
     ]
    }
   ],
   "source": [
    "import pandas as pd\n",
    "from faker import Faker\n",
    "import random\n",
    "from datetime import datetime\n",
    "\n",
    "# Specify size parameters\n",
    "n_names = 1\n",
    "n_per_name = 3\n",
    "\n",
    "\n",
    "# Setup faker for Dutch names and data\n",
    "fake = Faker('nl_NL')\n",
    "Faker.seed(0)\n",
    "random.seed(0)\n",
    "\n",
    "# Generate client names\n",
    "names = [fake.name() for _ in range(n_names)]\n",
    "\n",
    "# Each name appears three times\n",
    "client_names = [name for name in names for _ in range(n_per_name)]\n",
    "\n",
    "# Generate random timestamps starting from 2020\n",
    "random_dates = pd.to_datetime(\n",
    "    [fake.date_time_between(start_date='-3y', end_date='now') for _ in range(n_names * n_per_name)]\n",
    ").sort_values().strftime('%Y-%m-%d %H:%M')\n",
    "\n",
    "# Randomly assign zorgverlener IDs\n",
    "zorgverlener_ids = [f\"ZV10{random.randint(1,5)}\" for _ in range(n_names * n_per_name)]\n",
    "\n",
    "# Creating the DataFrame\n",
    "data = {\n",
    "    \"Cliëntnaam\": client_names,\n",
    "    \"Tijdstip\": random_dates,\n",
    "    \"Zorgverlener ID\": zorgverlener_ids\n",
    "}\n",
    "\n",
    "# Convert to DataFrame\n",
    "df = pd.DataFrame(data)\n",
    "\n",
    "# Shuffle client names to ensure they are mixed up and then sort by 'Tijdstip'\n",
    "random.shuffle(df['Cliëntnaam'])\n",
    "df_sorted = df.sort_values(by='Tijdstip')\n",
    "\n",
    "# Display the DataFrame\n",
    "print(df_sorted)\n"
   ]
  },
  {
   "cell_type": "markdown",
   "id": "7b329cca",
   "metadata": {},
   "source": [
    "## Genereer teksten met behulp van GPT"
   ]
  },
  {
   "cell_type": "code",
   "execution_count": 3,
   "id": "faa3a611",
   "metadata": {},
   "outputs": [],
   "source": [
    "from openai import OpenAI\n",
    "\n",
    "client = OpenAI(\n",
    "    # This is the default and can be omitted\n",
    "    api_key = \"\"\n",
    ")\n",
    "\n",
    "# Assuming you have a specific entity and sector to check\n",
    "\n",
    "def rapport_generator(name):\n",
    "    response = client.chat.completions.create(\n",
    "        messages=[\n",
    "        {\"role\": \"system\", \"content\": \"Je bent een generator voor teksten. Maak de tekst gemiddeld 50 woorden lang. Het moet zijn alsof een persoonlijk begeleider een dagelijkse rapportage schrijft over iemand met een verstandelijke beperking. Zorg er voor dat er nepnamen, nep adressen, nep e-mail adressen en nep telefoon nummers in de rapportage voorkomen. Het stukje tekst moet gaan over de dag van de persoon met de verstandelijke beperking. \"},\n",
    "        {\"role\": \"user\", \"content\": name}\n",
    "        ],\n",
    "        max_tokens = 200,\n",
    "        model=\"gpt-3.5-turbo\",\n",
    "    )\n",
    "    result = response.choices[0].message.content\n",
    "    print(name)\n",
    "    return result"
   ]
  },
  {
   "cell_type": "code",
   "execution_count": 4,
   "id": "93e14662",
   "metadata": {},
   "outputs": [
    {
     "ename": "APIConnectionError",
     "evalue": "Connection error.",
     "output_type": "error",
     "traceback": [
      "\u001b[1;31m---------------------------------------------------------------------------\u001b[0m",
      "\u001b[1;31mProxyError\u001b[0m                                Traceback (most recent call last)",
      "File \u001b[1;32m~\\.conda\\envs\\Deduce_env\\Lib\\site-packages\\httpx\\_transports\\default.py:69\u001b[0m, in \u001b[0;36mmap_httpcore_exceptions\u001b[1;34m()\u001b[0m\n\u001b[0;32m     <a href='file:///~/.conda/envs/Deduce_env/Lib/site-packages/httpx/_transports/default.py?line=67'>68</a>\u001b[0m \u001b[39mtry\u001b[39;00m:\n\u001b[1;32m---> <a href='file:///~/.conda/envs/Deduce_env/Lib/site-packages/httpx/_transports/default.py?line=68'>69</a>\u001b[0m     \u001b[39myield\u001b[39;00m\n\u001b[0;32m     <a href='file:///~/.conda/envs/Deduce_env/Lib/site-packages/httpx/_transports/default.py?line=69'>70</a>\u001b[0m \u001b[39mexcept\u001b[39;00m \u001b[39mException\u001b[39;00m \u001b[39mas\u001b[39;00m exc:\n",
      "File \u001b[1;32m~\\.conda\\envs\\Deduce_env\\Lib\\site-packages\\httpx\\_transports\\default.py:233\u001b[0m, in \u001b[0;36mHTTPTransport.handle_request\u001b[1;34m(self, request)\u001b[0m\n\u001b[0;32m    <a href='file:///~/.conda/envs/Deduce_env/Lib/site-packages/httpx/_transports/default.py?line=231'>232</a>\u001b[0m \u001b[39mwith\u001b[39;00m map_httpcore_exceptions():\n\u001b[1;32m--> <a href='file:///~/.conda/envs/Deduce_env/Lib/site-packages/httpx/_transports/default.py?line=232'>233</a>\u001b[0m     resp \u001b[39m=\u001b[39m \u001b[39mself\u001b[39;49m\u001b[39m.\u001b[39;49m_pool\u001b[39m.\u001b[39;49mhandle_request(req)\n\u001b[0;32m    <a href='file:///~/.conda/envs/Deduce_env/Lib/site-packages/httpx/_transports/default.py?line=234'>235</a>\u001b[0m \u001b[39massert\u001b[39;00m \u001b[39misinstance\u001b[39m(resp\u001b[39m.\u001b[39mstream, typing\u001b[39m.\u001b[39mIterable)\n",
      "File \u001b[1;32m~\\.conda\\envs\\Deduce_env\\Lib\\site-packages\\httpcore\\_sync\\connection_pool.py:216\u001b[0m, in \u001b[0;36mConnectionPool.handle_request\u001b[1;34m(self, request)\u001b[0m\n\u001b[0;32m    <a href='file:///~/.conda/envs/Deduce_env/Lib/site-packages/httpcore/_sync/connection_pool.py?line=214'>215</a>\u001b[0m     \u001b[39mself\u001b[39m\u001b[39m.\u001b[39m_close_connections(closing)\n\u001b[1;32m--> <a href='file:///~/.conda/envs/Deduce_env/Lib/site-packages/httpcore/_sync/connection_pool.py?line=215'>216</a>\u001b[0m     \u001b[39mraise\u001b[39;00m exc \u001b[39mfrom\u001b[39;00m \u001b[39mNone\u001b[39;00m\n\u001b[0;32m    <a href='file:///~/.conda/envs/Deduce_env/Lib/site-packages/httpcore/_sync/connection_pool.py?line=217'>218</a>\u001b[0m \u001b[39m# Return the response. Note that in this case we still have to manage\u001b[39;00m\n\u001b[0;32m    <a href='file:///~/.conda/envs/Deduce_env/Lib/site-packages/httpcore/_sync/connection_pool.py?line=218'>219</a>\u001b[0m \u001b[39m# the point at which the response is closed.\u001b[39;00m\n",
      "File \u001b[1;32m~\\.conda\\envs\\Deduce_env\\Lib\\site-packages\\httpcore\\_sync\\connection_pool.py:196\u001b[0m, in \u001b[0;36mConnectionPool.handle_request\u001b[1;34m(self, request)\u001b[0m\n\u001b[0;32m    <a href='file:///~/.conda/envs/Deduce_env/Lib/site-packages/httpcore/_sync/connection_pool.py?line=193'>194</a>\u001b[0m \u001b[39mtry\u001b[39;00m:\n\u001b[0;32m    <a href='file:///~/.conda/envs/Deduce_env/Lib/site-packages/httpcore/_sync/connection_pool.py?line=194'>195</a>\u001b[0m     \u001b[39m# Send the request on the assigned connection.\u001b[39;00m\n\u001b[1;32m--> <a href='file:///~/.conda/envs/Deduce_env/Lib/site-packages/httpcore/_sync/connection_pool.py?line=195'>196</a>\u001b[0m     response \u001b[39m=\u001b[39m connection\u001b[39m.\u001b[39;49mhandle_request(\n\u001b[0;32m    <a href='file:///~/.conda/envs/Deduce_env/Lib/site-packages/httpcore/_sync/connection_pool.py?line=196'>197</a>\u001b[0m         pool_request\u001b[39m.\u001b[39;49mrequest\n\u001b[0;32m    <a href='file:///~/.conda/envs/Deduce_env/Lib/site-packages/httpcore/_sync/connection_pool.py?line=197'>198</a>\u001b[0m     )\n\u001b[0;32m    <a href='file:///~/.conda/envs/Deduce_env/Lib/site-packages/httpcore/_sync/connection_pool.py?line=198'>199</a>\u001b[0m \u001b[39mexcept\u001b[39;00m ConnectionNotAvailable:\n\u001b[0;32m    <a href='file:///~/.conda/envs/Deduce_env/Lib/site-packages/httpcore/_sync/connection_pool.py?line=199'>200</a>\u001b[0m     \u001b[39m# In some cases a connection may initially be available to\u001b[39;00m\n\u001b[0;32m    <a href='file:///~/.conda/envs/Deduce_env/Lib/site-packages/httpcore/_sync/connection_pool.py?line=200'>201</a>\u001b[0m     \u001b[39m# handle a request, but then become unavailable.\u001b[39;00m\n\u001b[0;32m    <a href='file:///~/.conda/envs/Deduce_env/Lib/site-packages/httpcore/_sync/connection_pool.py?line=201'>202</a>\u001b[0m     \u001b[39m#\u001b[39;00m\n\u001b[0;32m    <a href='file:///~/.conda/envs/Deduce_env/Lib/site-packages/httpcore/_sync/connection_pool.py?line=202'>203</a>\u001b[0m     \u001b[39m# In this case we clear the connection and try again.\u001b[39;00m\n",
      "File \u001b[1;32m~\\.conda\\envs\\Deduce_env\\Lib\\site-packages\\httpcore\\_sync\\http_proxy.py:298\u001b[0m, in \u001b[0;36mTunnelHTTPConnection.handle_request\u001b[1;34m(self, request)\u001b[0m\n\u001b[0;32m    <a href='file:///~/.conda/envs/Deduce_env/Lib/site-packages/httpcore/_sync/http_proxy.py?line=296'>297</a>\u001b[0m     \u001b[39mself\u001b[39m\u001b[39m.\u001b[39m_connection\u001b[39m.\u001b[39mclose()\n\u001b[1;32m--> <a href='file:///~/.conda/envs/Deduce_env/Lib/site-packages/httpcore/_sync/http_proxy.py?line=297'>298</a>\u001b[0m     \u001b[39mraise\u001b[39;00m ProxyError(msg)\n\u001b[0;32m    <a href='file:///~/.conda/envs/Deduce_env/Lib/site-packages/httpcore/_sync/http_proxy.py?line=299'>300</a>\u001b[0m stream \u001b[39m=\u001b[39m connect_response\u001b[39m.\u001b[39mextensions[\u001b[39m\"\u001b[39m\u001b[39mnetwork_stream\u001b[39m\u001b[39m\"\u001b[39m]\n",
      "\u001b[1;31mProxyError\u001b[0m: 403 Forbidden",
      "\nThe above exception was the direct cause of the following exception:\n",
      "\u001b[1;31mProxyError\u001b[0m                                Traceback (most recent call last)",
      "File \u001b[1;32m~\\.conda\\envs\\Deduce_env\\Lib\\site-packages\\openai\\_base_client.py:962\u001b[0m, in \u001b[0;36mSyncAPIClient._request\u001b[1;34m(self, cast_to, options, remaining_retries, stream, stream_cls)\u001b[0m\n\u001b[0;32m    <a href='file:///~/.conda/envs/Deduce_env/Lib/site-packages/openai/_base_client.py?line=960'>961</a>\u001b[0m \u001b[39mtry\u001b[39;00m:\n\u001b[1;32m--> <a href='file:///~/.conda/envs/Deduce_env/Lib/site-packages/openai/_base_client.py?line=961'>962</a>\u001b[0m     response \u001b[39m=\u001b[39m \u001b[39mself\u001b[39;49m\u001b[39m.\u001b[39;49m_client\u001b[39m.\u001b[39;49msend(\n\u001b[0;32m    <a href='file:///~/.conda/envs/Deduce_env/Lib/site-packages/openai/_base_client.py?line=962'>963</a>\u001b[0m         request,\n\u001b[0;32m    <a href='file:///~/.conda/envs/Deduce_env/Lib/site-packages/openai/_base_client.py?line=963'>964</a>\u001b[0m         stream\u001b[39m=\u001b[39;49mstream \u001b[39mor\u001b[39;49;00m \u001b[39mself\u001b[39;49m\u001b[39m.\u001b[39;49m_should_stream_response_body(request\u001b[39m=\u001b[39;49mrequest),\n\u001b[0;32m    <a href='file:///~/.conda/envs/Deduce_env/Lib/site-packages/openai/_base_client.py?line=964'>965</a>\u001b[0m         \u001b[39m*\u001b[39;49m\u001b[39m*\u001b[39;49mkwargs,\n\u001b[0;32m    <a href='file:///~/.conda/envs/Deduce_env/Lib/site-packages/openai/_base_client.py?line=965'>966</a>\u001b[0m     )\n\u001b[0;32m    <a href='file:///~/.conda/envs/Deduce_env/Lib/site-packages/openai/_base_client.py?line=966'>967</a>\u001b[0m \u001b[39mexcept\u001b[39;00m httpx\u001b[39m.\u001b[39mTimeoutException \u001b[39mas\u001b[39;00m err:\n",
      "File \u001b[1;32m~\\.conda\\envs\\Deduce_env\\Lib\\site-packages\\httpx\\_client.py:914\u001b[0m, in \u001b[0;36mClient.send\u001b[1;34m(self, request, stream, auth, follow_redirects)\u001b[0m\n\u001b[0;32m    <a href='file:///~/.conda/envs/Deduce_env/Lib/site-packages/httpx/_client.py?line=911'>912</a>\u001b[0m auth \u001b[39m=\u001b[39m \u001b[39mself\u001b[39m\u001b[39m.\u001b[39m_build_request_auth(request, auth)\n\u001b[1;32m--> <a href='file:///~/.conda/envs/Deduce_env/Lib/site-packages/httpx/_client.py?line=913'>914</a>\u001b[0m response \u001b[39m=\u001b[39m \u001b[39mself\u001b[39;49m\u001b[39m.\u001b[39;49m_send_handling_auth(\n\u001b[0;32m    <a href='file:///~/.conda/envs/Deduce_env/Lib/site-packages/httpx/_client.py?line=914'>915</a>\u001b[0m     request,\n\u001b[0;32m    <a href='file:///~/.conda/envs/Deduce_env/Lib/site-packages/httpx/_client.py?line=915'>916</a>\u001b[0m     auth\u001b[39m=\u001b[39;49mauth,\n\u001b[0;32m    <a href='file:///~/.conda/envs/Deduce_env/Lib/site-packages/httpx/_client.py?line=916'>917</a>\u001b[0m     follow_redirects\u001b[39m=\u001b[39;49mfollow_redirects,\n\u001b[0;32m    <a href='file:///~/.conda/envs/Deduce_env/Lib/site-packages/httpx/_client.py?line=917'>918</a>\u001b[0m     history\u001b[39m=\u001b[39;49m[],\n\u001b[0;32m    <a href='file:///~/.conda/envs/Deduce_env/Lib/site-packages/httpx/_client.py?line=918'>919</a>\u001b[0m )\n\u001b[0;32m    <a href='file:///~/.conda/envs/Deduce_env/Lib/site-packages/httpx/_client.py?line=919'>920</a>\u001b[0m \u001b[39mtry\u001b[39;00m:\n",
      "File \u001b[1;32m~\\.conda\\envs\\Deduce_env\\Lib\\site-packages\\httpx\\_client.py:942\u001b[0m, in \u001b[0;36mClient._send_handling_auth\u001b[1;34m(self, request, auth, follow_redirects, history)\u001b[0m\n\u001b[0;32m    <a href='file:///~/.conda/envs/Deduce_env/Lib/site-packages/httpx/_client.py?line=940'>941</a>\u001b[0m \u001b[39mwhile\u001b[39;00m \u001b[39mTrue\u001b[39;00m:\n\u001b[1;32m--> <a href='file:///~/.conda/envs/Deduce_env/Lib/site-packages/httpx/_client.py?line=941'>942</a>\u001b[0m     response \u001b[39m=\u001b[39m \u001b[39mself\u001b[39;49m\u001b[39m.\u001b[39;49m_send_handling_redirects(\n\u001b[0;32m    <a href='file:///~/.conda/envs/Deduce_env/Lib/site-packages/httpx/_client.py?line=942'>943</a>\u001b[0m         request,\n\u001b[0;32m    <a href='file:///~/.conda/envs/Deduce_env/Lib/site-packages/httpx/_client.py?line=943'>944</a>\u001b[0m         follow_redirects\u001b[39m=\u001b[39;49mfollow_redirects,\n\u001b[0;32m    <a href='file:///~/.conda/envs/Deduce_env/Lib/site-packages/httpx/_client.py?line=944'>945</a>\u001b[0m         history\u001b[39m=\u001b[39;49mhistory,\n\u001b[0;32m    <a href='file:///~/.conda/envs/Deduce_env/Lib/site-packages/httpx/_client.py?line=945'>946</a>\u001b[0m     )\n\u001b[0;32m    <a href='file:///~/.conda/envs/Deduce_env/Lib/site-packages/httpx/_client.py?line=946'>947</a>\u001b[0m     \u001b[39mtry\u001b[39;00m:\n",
      "File \u001b[1;32m~\\.conda\\envs\\Deduce_env\\Lib\\site-packages\\httpx\\_client.py:979\u001b[0m, in \u001b[0;36mClient._send_handling_redirects\u001b[1;34m(self, request, follow_redirects, history)\u001b[0m\n\u001b[0;32m    <a href='file:///~/.conda/envs/Deduce_env/Lib/site-packages/httpx/_client.py?line=976'>977</a>\u001b[0m     hook(request)\n\u001b[1;32m--> <a href='file:///~/.conda/envs/Deduce_env/Lib/site-packages/httpx/_client.py?line=978'>979</a>\u001b[0m response \u001b[39m=\u001b[39m \u001b[39mself\u001b[39;49m\u001b[39m.\u001b[39;49m_send_single_request(request)\n\u001b[0;32m    <a href='file:///~/.conda/envs/Deduce_env/Lib/site-packages/httpx/_client.py?line=979'>980</a>\u001b[0m \u001b[39mtry\u001b[39;00m:\n",
      "File \u001b[1;32m~\\.conda\\envs\\Deduce_env\\Lib\\site-packages\\httpx\\_client.py:1015\u001b[0m, in \u001b[0;36mClient._send_single_request\u001b[1;34m(self, request)\u001b[0m\n\u001b[0;32m   <a href='file:///~/.conda/envs/Deduce_env/Lib/site-packages/httpx/_client.py?line=1013'>1014</a>\u001b[0m \u001b[39mwith\u001b[39;00m request_context(request\u001b[39m=\u001b[39mrequest):\n\u001b[1;32m-> <a href='file:///~/.conda/envs/Deduce_env/Lib/site-packages/httpx/_client.py?line=1014'>1015</a>\u001b[0m     response \u001b[39m=\u001b[39m transport\u001b[39m.\u001b[39;49mhandle_request(request)\n\u001b[0;32m   <a href='file:///~/.conda/envs/Deduce_env/Lib/site-packages/httpx/_client.py?line=1016'>1017</a>\u001b[0m \u001b[39massert\u001b[39;00m \u001b[39misinstance\u001b[39m(response\u001b[39m.\u001b[39mstream, SyncByteStream)\n",
      "File \u001b[1;32m~\\.conda\\envs\\Deduce_env\\Lib\\site-packages\\httpx\\_transports\\default.py:232\u001b[0m, in \u001b[0;36mHTTPTransport.handle_request\u001b[1;34m(self, request)\u001b[0m\n\u001b[0;32m    <a href='file:///~/.conda/envs/Deduce_env/Lib/site-packages/httpx/_transports/default.py?line=219'>220</a>\u001b[0m req \u001b[39m=\u001b[39m httpcore\u001b[39m.\u001b[39mRequest(\n\u001b[0;32m    <a href='file:///~/.conda/envs/Deduce_env/Lib/site-packages/httpx/_transports/default.py?line=220'>221</a>\u001b[0m     method\u001b[39m=\u001b[39mrequest\u001b[39m.\u001b[39mmethod,\n\u001b[0;32m    <a href='file:///~/.conda/envs/Deduce_env/Lib/site-packages/httpx/_transports/default.py?line=221'>222</a>\u001b[0m     url\u001b[39m=\u001b[39mhttpcore\u001b[39m.\u001b[39mURL(\n\u001b[1;32m   (...)\u001b[0m\n\u001b[0;32m    <a href='file:///~/.conda/envs/Deduce_env/Lib/site-packages/httpx/_transports/default.py?line=229'>230</a>\u001b[0m     extensions\u001b[39m=\u001b[39mrequest\u001b[39m.\u001b[39mextensions,\n\u001b[0;32m    <a href='file:///~/.conda/envs/Deduce_env/Lib/site-packages/httpx/_transports/default.py?line=230'>231</a>\u001b[0m )\n\u001b[1;32m--> <a href='file:///~/.conda/envs/Deduce_env/Lib/site-packages/httpx/_transports/default.py?line=231'>232</a>\u001b[0m \u001b[39mwith\u001b[39;49;00m map_httpcore_exceptions():\n\u001b[0;32m    <a href='file:///~/.conda/envs/Deduce_env/Lib/site-packages/httpx/_transports/default.py?line=232'>233</a>\u001b[0m     resp \u001b[39m=\u001b[39;49m \u001b[39mself\u001b[39;49m\u001b[39m.\u001b[39;49m_pool\u001b[39m.\u001b[39;49mhandle_request(req)\n",
      "File \u001b[1;32m~\\.conda\\envs\\Deduce_env\\Lib\\contextlib.py:158\u001b[0m, in \u001b[0;36m_GeneratorContextManager.__exit__\u001b[1;34m(self, typ, value, traceback)\u001b[0m\n\u001b[0;32m    <a href='file:///~/.conda/envs/Deduce_env/Lib/contextlib.py?line=156'>157</a>\u001b[0m \u001b[39mtry\u001b[39;00m:\n\u001b[1;32m--> <a href='file:///~/.conda/envs/Deduce_env/Lib/contextlib.py?line=157'>158</a>\u001b[0m     \u001b[39mself\u001b[39m\u001b[39m.\u001b[39mgen\u001b[39m.\u001b[39mthrow(typ, value, traceback)\n\u001b[0;32m    <a href='file:///~/.conda/envs/Deduce_env/Lib/contextlib.py?line=158'>159</a>\u001b[0m \u001b[39mexcept\u001b[39;00m \u001b[39mStopIteration\u001b[39;00m \u001b[39mas\u001b[39;00m exc:\n\u001b[0;32m    <a href='file:///~/.conda/envs/Deduce_env/Lib/contextlib.py?line=159'>160</a>\u001b[0m     \u001b[39m# Suppress StopIteration *unless* it's the same exception that\u001b[39;00m\n\u001b[0;32m    <a href='file:///~/.conda/envs/Deduce_env/Lib/contextlib.py?line=160'>161</a>\u001b[0m     \u001b[39m# was passed to throw().  This prevents a StopIteration\u001b[39;00m\n\u001b[0;32m    <a href='file:///~/.conda/envs/Deduce_env/Lib/contextlib.py?line=161'>162</a>\u001b[0m     \u001b[39m# raised inside the \"with\" statement from being suppressed.\u001b[39;00m\n",
      "File \u001b[1;32m~\\.conda\\envs\\Deduce_env\\Lib\\site-packages\\httpx\\_transports\\default.py:86\u001b[0m, in \u001b[0;36mmap_httpcore_exceptions\u001b[1;34m()\u001b[0m\n\u001b[0;32m     <a href='file:///~/.conda/envs/Deduce_env/Lib/site-packages/httpx/_transports/default.py?line=84'>85</a>\u001b[0m message \u001b[39m=\u001b[39m \u001b[39mstr\u001b[39m(exc)\n\u001b[1;32m---> <a href='file:///~/.conda/envs/Deduce_env/Lib/site-packages/httpx/_transports/default.py?line=85'>86</a>\u001b[0m \u001b[39mraise\u001b[39;00m mapped_exc(message) \u001b[39mfrom\u001b[39;00m \u001b[39mexc\u001b[39;00m\n",
      "\u001b[1;31mProxyError\u001b[0m: 403 Forbidden",
      "\nThe above exception was the direct cause of the following exception:\n",
      "\u001b[1;31mAPIConnectionError\u001b[0m                        Traceback (most recent call last)",
      "Cell \u001b[1;32mIn[4], line 1\u001b[0m\n\u001b[1;32m----> 1\u001b[0m \u001b[43mrapport_generator\u001b[49m\u001b[43m(\u001b[49m\u001b[38;5;124;43m\"\u001b[39;49m\u001b[38;5;124;43mjan jansen\u001b[39;49m\u001b[38;5;124;43m\"\u001b[39;49m\u001b[43m)\u001b[49m\n",
      "Cell \u001b[1;32mIn[3], line 11\u001b[0m, in \u001b[0;36mrapport_generator\u001b[1;34m(name)\u001b[0m\n\u001b[0;32m     10\u001b[0m \u001b[38;5;28;01mdef\u001b[39;00m \u001b[38;5;21mrapport_generator\u001b[39m(name):\n\u001b[1;32m---> 11\u001b[0m     response \u001b[38;5;241m=\u001b[39m \u001b[43mclient\u001b[49m\u001b[38;5;241;43m.\u001b[39;49m\u001b[43mchat\u001b[49m\u001b[38;5;241;43m.\u001b[39;49m\u001b[43mcompletions\u001b[49m\u001b[38;5;241;43m.\u001b[39;49m\u001b[43mcreate\u001b[49m\u001b[43m(\u001b[49m\n\u001b[0;32m     12\u001b[0m \u001b[43m        \u001b[49m\u001b[43mmessages\u001b[49m\u001b[38;5;241;43m=\u001b[39;49m\u001b[43m[\u001b[49m\n\u001b[0;32m     13\u001b[0m \u001b[43m        \u001b[49m\u001b[43m{\u001b[49m\u001b[38;5;124;43m\"\u001b[39;49m\u001b[38;5;124;43mrole\u001b[39;49m\u001b[38;5;124;43m\"\u001b[39;49m\u001b[43m:\u001b[49m\u001b[43m \u001b[49m\u001b[38;5;124;43m\"\u001b[39;49m\u001b[38;5;124;43msystem\u001b[39;49m\u001b[38;5;124;43m\"\u001b[39;49m\u001b[43m,\u001b[49m\u001b[43m \u001b[49m\u001b[38;5;124;43m\"\u001b[39;49m\u001b[38;5;124;43mcontent\u001b[39;49m\u001b[38;5;124;43m\"\u001b[39;49m\u001b[43m:\u001b[49m\u001b[43m \u001b[49m\u001b[38;5;124;43m\"\u001b[39;49m\u001b[38;5;124;43mJe bent een generator voor teksten. Maak de tekst gemiddeld 50 woorden lang. Het moet zijn alsof een persoonlijk begeleider een dagelijkse rapportage schrijft over iemand met een verstandelijke beperking. Zorg er voor dat er nepnamen, nep adressen, nep e-mail adressen en nep telefoon nummers in de rapportage voorkomen. Het stukje tekst moet gaan over de dag van de persoon met de verstandelijke beperking. \u001b[39;49m\u001b[38;5;124;43m\"\u001b[39;49m\u001b[43m}\u001b[49m\u001b[43m,\u001b[49m\n\u001b[0;32m     14\u001b[0m \u001b[43m        \u001b[49m\u001b[43m{\u001b[49m\u001b[38;5;124;43m\"\u001b[39;49m\u001b[38;5;124;43mrole\u001b[39;49m\u001b[38;5;124;43m\"\u001b[39;49m\u001b[43m:\u001b[49m\u001b[43m \u001b[49m\u001b[38;5;124;43m\"\u001b[39;49m\u001b[38;5;124;43muser\u001b[39;49m\u001b[38;5;124;43m\"\u001b[39;49m\u001b[43m,\u001b[49m\u001b[43m \u001b[49m\u001b[38;5;124;43m\"\u001b[39;49m\u001b[38;5;124;43mcontent\u001b[39;49m\u001b[38;5;124;43m\"\u001b[39;49m\u001b[43m:\u001b[49m\u001b[43m \u001b[49m\u001b[43mname\u001b[49m\u001b[43m}\u001b[49m\n\u001b[0;32m     15\u001b[0m \u001b[43m        \u001b[49m\u001b[43m]\u001b[49m\u001b[43m,\u001b[49m\n\u001b[0;32m     16\u001b[0m \u001b[43m        \u001b[49m\u001b[43mmax_tokens\u001b[49m\u001b[43m \u001b[49m\u001b[38;5;241;43m=\u001b[39;49m\u001b[43m \u001b[49m\u001b[38;5;241;43m200\u001b[39;49m\u001b[43m,\u001b[49m\n\u001b[0;32m     17\u001b[0m \u001b[43m        \u001b[49m\u001b[43mmodel\u001b[49m\u001b[38;5;241;43m=\u001b[39;49m\u001b[38;5;124;43m\"\u001b[39;49m\u001b[38;5;124;43mgpt-3.5-turbo\u001b[39;49m\u001b[38;5;124;43m\"\u001b[39;49m\u001b[43m,\u001b[49m\n\u001b[0;32m     18\u001b[0m \u001b[43m    \u001b[49m\u001b[43m)\u001b[49m\n\u001b[0;32m     19\u001b[0m     result \u001b[38;5;241m=\u001b[39m response\u001b[38;5;241m.\u001b[39mchoices[\u001b[38;5;241m0\u001b[39m]\u001b[38;5;241m.\u001b[39mmessage\u001b[38;5;241m.\u001b[39mcontent\n\u001b[0;32m     20\u001b[0m     \u001b[38;5;28mprint\u001b[39m(name)\n",
      "File \u001b[1;32m~\\.conda\\envs\\Deduce_env\\Lib\\site-packages\\openai\\_utils\\_utils.py:277\u001b[0m, in \u001b[0;36mrequired_args.<locals>.inner.<locals>.wrapper\u001b[1;34m(*args, **kwargs)\u001b[0m\n\u001b[0;32m    <a href='file:///~/.conda/envs/Deduce_env/Lib/site-packages/openai/_utils/_utils.py?line=274'>275</a>\u001b[0m             msg \u001b[39m=\u001b[39m \u001b[39mf\u001b[39m\u001b[39m\"\u001b[39m\u001b[39mMissing required argument: \u001b[39m\u001b[39m{\u001b[39;00mquote(missing[\u001b[39m0\u001b[39m])\u001b[39m}\u001b[39;00m\u001b[39m\"\u001b[39m\n\u001b[0;32m    <a href='file:///~/.conda/envs/Deduce_env/Lib/site-packages/openai/_utils/_utils.py?line=275'>276</a>\u001b[0m     \u001b[39mraise\u001b[39;00m \u001b[39mTypeError\u001b[39;00m(msg)\n\u001b[1;32m--> <a href='file:///~/.conda/envs/Deduce_env/Lib/site-packages/openai/_utils/_utils.py?line=276'>277</a>\u001b[0m \u001b[39mreturn\u001b[39;00m func(\u001b[39m*\u001b[39;49margs, \u001b[39m*\u001b[39;49m\u001b[39m*\u001b[39;49mkwargs)\n",
      "File \u001b[1;32m~\\.conda\\envs\\Deduce_env\\Lib\\site-packages\\openai\\resources\\chat\\completions.py:643\u001b[0m, in \u001b[0;36mCompletions.create\u001b[1;34m(self, messages, model, frequency_penalty, function_call, functions, logit_bias, logprobs, max_tokens, n, parallel_tool_calls, presence_penalty, response_format, seed, service_tier, stop, stream, stream_options, temperature, tool_choice, tools, top_logprobs, top_p, user, extra_headers, extra_query, extra_body, timeout)\u001b[0m\n\u001b[0;32m    <a href='file:///~/.conda/envs/Deduce_env/Lib/site-packages/openai/resources/chat/completions.py?line=608'>609</a>\u001b[0m \u001b[39m@required_args\u001b[39m([\u001b[39m\"\u001b[39m\u001b[39mmessages\u001b[39m\u001b[39m\"\u001b[39m, \u001b[39m\"\u001b[39m\u001b[39mmodel\u001b[39m\u001b[39m\"\u001b[39m], [\u001b[39m\"\u001b[39m\u001b[39mmessages\u001b[39m\u001b[39m\"\u001b[39m, \u001b[39m\"\u001b[39m\u001b[39mmodel\u001b[39m\u001b[39m\"\u001b[39m, \u001b[39m\"\u001b[39m\u001b[39mstream\u001b[39m\u001b[39m\"\u001b[39m])\n\u001b[0;32m    <a href='file:///~/.conda/envs/Deduce_env/Lib/site-packages/openai/resources/chat/completions.py?line=609'>610</a>\u001b[0m \u001b[39mdef\u001b[39;00m \u001b[39mcreate\u001b[39m(\n\u001b[0;32m    <a href='file:///~/.conda/envs/Deduce_env/Lib/site-packages/openai/resources/chat/completions.py?line=610'>611</a>\u001b[0m     \u001b[39mself\u001b[39m,\n\u001b[1;32m   (...)\u001b[0m\n\u001b[0;32m    <a href='file:///~/.conda/envs/Deduce_env/Lib/site-packages/openai/resources/chat/completions.py?line=640'>641</a>\u001b[0m     timeout: \u001b[39mfloat\u001b[39m \u001b[39m|\u001b[39m httpx\u001b[39m.\u001b[39mTimeout \u001b[39m|\u001b[39m \u001b[39mNone\u001b[39;00m \u001b[39m|\u001b[39m NotGiven \u001b[39m=\u001b[39m NOT_GIVEN,\n\u001b[0;32m    <a href='file:///~/.conda/envs/Deduce_env/Lib/site-packages/openai/resources/chat/completions.py?line=641'>642</a>\u001b[0m ) \u001b[39m-\u001b[39m\u001b[39m>\u001b[39m ChatCompletion \u001b[39m|\u001b[39m Stream[ChatCompletionChunk]:\n\u001b[1;32m--> <a href='file:///~/.conda/envs/Deduce_env/Lib/site-packages/openai/resources/chat/completions.py?line=642'>643</a>\u001b[0m     \u001b[39mreturn\u001b[39;00m \u001b[39mself\u001b[39;49m\u001b[39m.\u001b[39;49m_post(\n\u001b[0;32m    <a href='file:///~/.conda/envs/Deduce_env/Lib/site-packages/openai/resources/chat/completions.py?line=643'>644</a>\u001b[0m         \u001b[39m\"\u001b[39;49m\u001b[39m/chat/completions\u001b[39;49m\u001b[39m\"\u001b[39;49m,\n\u001b[0;32m    <a href='file:///~/.conda/envs/Deduce_env/Lib/site-packages/openai/resources/chat/completions.py?line=644'>645</a>\u001b[0m         body\u001b[39m=\u001b[39;49mmaybe_transform(\n\u001b[0;32m    <a href='file:///~/.conda/envs/Deduce_env/Lib/site-packages/openai/resources/chat/completions.py?line=645'>646</a>\u001b[0m             {\n\u001b[0;32m    <a href='file:///~/.conda/envs/Deduce_env/Lib/site-packages/openai/resources/chat/completions.py?line=646'>647</a>\u001b[0m                 \u001b[39m\"\u001b[39;49m\u001b[39mmessages\u001b[39;49m\u001b[39m\"\u001b[39;49m: messages,\n\u001b[0;32m    <a href='file:///~/.conda/envs/Deduce_env/Lib/site-packages/openai/resources/chat/completions.py?line=647'>648</a>\u001b[0m                 \u001b[39m\"\u001b[39;49m\u001b[39mmodel\u001b[39;49m\u001b[39m\"\u001b[39;49m: model,\n\u001b[0;32m    <a href='file:///~/.conda/envs/Deduce_env/Lib/site-packages/openai/resources/chat/completions.py?line=648'>649</a>\u001b[0m                 \u001b[39m\"\u001b[39;49m\u001b[39mfrequency_penalty\u001b[39;49m\u001b[39m\"\u001b[39;49m: frequency_penalty,\n\u001b[0;32m    <a href='file:///~/.conda/envs/Deduce_env/Lib/site-packages/openai/resources/chat/completions.py?line=649'>650</a>\u001b[0m                 \u001b[39m\"\u001b[39;49m\u001b[39mfunction_call\u001b[39;49m\u001b[39m\"\u001b[39;49m: function_call,\n\u001b[0;32m    <a href='file:///~/.conda/envs/Deduce_env/Lib/site-packages/openai/resources/chat/completions.py?line=650'>651</a>\u001b[0m                 \u001b[39m\"\u001b[39;49m\u001b[39mfunctions\u001b[39;49m\u001b[39m\"\u001b[39;49m: functions,\n\u001b[0;32m    <a href='file:///~/.conda/envs/Deduce_env/Lib/site-packages/openai/resources/chat/completions.py?line=651'>652</a>\u001b[0m                 \u001b[39m\"\u001b[39;49m\u001b[39mlogit_bias\u001b[39;49m\u001b[39m\"\u001b[39;49m: logit_bias,\n\u001b[0;32m    <a href='file:///~/.conda/envs/Deduce_env/Lib/site-packages/openai/resources/chat/completions.py?line=652'>653</a>\u001b[0m                 \u001b[39m\"\u001b[39;49m\u001b[39mlogprobs\u001b[39;49m\u001b[39m\"\u001b[39;49m: logprobs,\n\u001b[0;32m    <a href='file:///~/.conda/envs/Deduce_env/Lib/site-packages/openai/resources/chat/completions.py?line=653'>654</a>\u001b[0m                 \u001b[39m\"\u001b[39;49m\u001b[39mmax_tokens\u001b[39;49m\u001b[39m\"\u001b[39;49m: max_tokens,\n\u001b[0;32m    <a href='file:///~/.conda/envs/Deduce_env/Lib/site-packages/openai/resources/chat/completions.py?line=654'>655</a>\u001b[0m                 \u001b[39m\"\u001b[39;49m\u001b[39mn\u001b[39;49m\u001b[39m\"\u001b[39;49m: n,\n\u001b[0;32m    <a href='file:///~/.conda/envs/Deduce_env/Lib/site-packages/openai/resources/chat/completions.py?line=655'>656</a>\u001b[0m                 \u001b[39m\"\u001b[39;49m\u001b[39mparallel_tool_calls\u001b[39;49m\u001b[39m\"\u001b[39;49m: parallel_tool_calls,\n\u001b[0;32m    <a href='file:///~/.conda/envs/Deduce_env/Lib/site-packages/openai/resources/chat/completions.py?line=656'>657</a>\u001b[0m                 \u001b[39m\"\u001b[39;49m\u001b[39mpresence_penalty\u001b[39;49m\u001b[39m\"\u001b[39;49m: presence_penalty,\n\u001b[0;32m    <a href='file:///~/.conda/envs/Deduce_env/Lib/site-packages/openai/resources/chat/completions.py?line=657'>658</a>\u001b[0m                 \u001b[39m\"\u001b[39;49m\u001b[39mresponse_format\u001b[39;49m\u001b[39m\"\u001b[39;49m: response_format,\n\u001b[0;32m    <a href='file:///~/.conda/envs/Deduce_env/Lib/site-packages/openai/resources/chat/completions.py?line=658'>659</a>\u001b[0m                 \u001b[39m\"\u001b[39;49m\u001b[39mseed\u001b[39;49m\u001b[39m\"\u001b[39;49m: seed,\n\u001b[0;32m    <a href='file:///~/.conda/envs/Deduce_env/Lib/site-packages/openai/resources/chat/completions.py?line=659'>660</a>\u001b[0m                 \u001b[39m\"\u001b[39;49m\u001b[39mservice_tier\u001b[39;49m\u001b[39m\"\u001b[39;49m: service_tier,\n\u001b[0;32m    <a href='file:///~/.conda/envs/Deduce_env/Lib/site-packages/openai/resources/chat/completions.py?line=660'>661</a>\u001b[0m                 \u001b[39m\"\u001b[39;49m\u001b[39mstop\u001b[39;49m\u001b[39m\"\u001b[39;49m: stop,\n\u001b[0;32m    <a href='file:///~/.conda/envs/Deduce_env/Lib/site-packages/openai/resources/chat/completions.py?line=661'>662</a>\u001b[0m                 \u001b[39m\"\u001b[39;49m\u001b[39mstream\u001b[39;49m\u001b[39m\"\u001b[39;49m: stream,\n\u001b[0;32m    <a href='file:///~/.conda/envs/Deduce_env/Lib/site-packages/openai/resources/chat/completions.py?line=662'>663</a>\u001b[0m                 \u001b[39m\"\u001b[39;49m\u001b[39mstream_options\u001b[39;49m\u001b[39m\"\u001b[39;49m: stream_options,\n\u001b[0;32m    <a href='file:///~/.conda/envs/Deduce_env/Lib/site-packages/openai/resources/chat/completions.py?line=663'>664</a>\u001b[0m                 \u001b[39m\"\u001b[39;49m\u001b[39mtemperature\u001b[39;49m\u001b[39m\"\u001b[39;49m: temperature,\n\u001b[0;32m    <a href='file:///~/.conda/envs/Deduce_env/Lib/site-packages/openai/resources/chat/completions.py?line=664'>665</a>\u001b[0m                 \u001b[39m\"\u001b[39;49m\u001b[39mtool_choice\u001b[39;49m\u001b[39m\"\u001b[39;49m: tool_choice,\n\u001b[0;32m    <a href='file:///~/.conda/envs/Deduce_env/Lib/site-packages/openai/resources/chat/completions.py?line=665'>666</a>\u001b[0m                 \u001b[39m\"\u001b[39;49m\u001b[39mtools\u001b[39;49m\u001b[39m\"\u001b[39;49m: tools,\n\u001b[0;32m    <a href='file:///~/.conda/envs/Deduce_env/Lib/site-packages/openai/resources/chat/completions.py?line=666'>667</a>\u001b[0m                 \u001b[39m\"\u001b[39;49m\u001b[39mtop_logprobs\u001b[39;49m\u001b[39m\"\u001b[39;49m: top_logprobs,\n\u001b[0;32m    <a href='file:///~/.conda/envs/Deduce_env/Lib/site-packages/openai/resources/chat/completions.py?line=667'>668</a>\u001b[0m                 \u001b[39m\"\u001b[39;49m\u001b[39mtop_p\u001b[39;49m\u001b[39m\"\u001b[39;49m: top_p,\n\u001b[0;32m    <a href='file:///~/.conda/envs/Deduce_env/Lib/site-packages/openai/resources/chat/completions.py?line=668'>669</a>\u001b[0m                 \u001b[39m\"\u001b[39;49m\u001b[39muser\u001b[39;49m\u001b[39m\"\u001b[39;49m: user,\n\u001b[0;32m    <a href='file:///~/.conda/envs/Deduce_env/Lib/site-packages/openai/resources/chat/completions.py?line=669'>670</a>\u001b[0m             },\n\u001b[0;32m    <a href='file:///~/.conda/envs/Deduce_env/Lib/site-packages/openai/resources/chat/completions.py?line=670'>671</a>\u001b[0m             completion_create_params\u001b[39m.\u001b[39;49mCompletionCreateParams,\n\u001b[0;32m    <a href='file:///~/.conda/envs/Deduce_env/Lib/site-packages/openai/resources/chat/completions.py?line=671'>672</a>\u001b[0m         ),\n\u001b[0;32m    <a href='file:///~/.conda/envs/Deduce_env/Lib/site-packages/openai/resources/chat/completions.py?line=672'>673</a>\u001b[0m         options\u001b[39m=\u001b[39;49mmake_request_options(\n\u001b[0;32m    <a href='file:///~/.conda/envs/Deduce_env/Lib/site-packages/openai/resources/chat/completions.py?line=673'>674</a>\u001b[0m             extra_headers\u001b[39m=\u001b[39;49mextra_headers, extra_query\u001b[39m=\u001b[39;49mextra_query, extra_body\u001b[39m=\u001b[39;49mextra_body, timeout\u001b[39m=\u001b[39;49mtimeout\n\u001b[0;32m    <a href='file:///~/.conda/envs/Deduce_env/Lib/site-packages/openai/resources/chat/completions.py?line=674'>675</a>\u001b[0m         ),\n\u001b[0;32m    <a href='file:///~/.conda/envs/Deduce_env/Lib/site-packages/openai/resources/chat/completions.py?line=675'>676</a>\u001b[0m         cast_to\u001b[39m=\u001b[39;49mChatCompletion,\n\u001b[0;32m    <a href='file:///~/.conda/envs/Deduce_env/Lib/site-packages/openai/resources/chat/completions.py?line=676'>677</a>\u001b[0m         stream\u001b[39m=\u001b[39;49mstream \u001b[39mor\u001b[39;49;00m \u001b[39mFalse\u001b[39;49;00m,\n\u001b[0;32m    <a href='file:///~/.conda/envs/Deduce_env/Lib/site-packages/openai/resources/chat/completions.py?line=677'>678</a>\u001b[0m         stream_cls\u001b[39m=\u001b[39;49mStream[ChatCompletionChunk],\n\u001b[0;32m    <a href='file:///~/.conda/envs/Deduce_env/Lib/site-packages/openai/resources/chat/completions.py?line=678'>679</a>\u001b[0m     )\n",
      "File \u001b[1;32m~\\.conda\\envs\\Deduce_env\\Lib\\site-packages\\openai\\_base_client.py:1250\u001b[0m, in \u001b[0;36mSyncAPIClient.post\u001b[1;34m(self, path, cast_to, body, options, files, stream, stream_cls)\u001b[0m\n\u001b[0;32m   <a href='file:///~/.conda/envs/Deduce_env/Lib/site-packages/openai/_base_client.py?line=1235'>1236</a>\u001b[0m \u001b[39mdef\u001b[39;00m \u001b[39mpost\u001b[39m(\n\u001b[0;32m   <a href='file:///~/.conda/envs/Deduce_env/Lib/site-packages/openai/_base_client.py?line=1236'>1237</a>\u001b[0m     \u001b[39mself\u001b[39m,\n\u001b[0;32m   <a href='file:///~/.conda/envs/Deduce_env/Lib/site-packages/openai/_base_client.py?line=1237'>1238</a>\u001b[0m     path: \u001b[39mstr\u001b[39m,\n\u001b[1;32m   (...)\u001b[0m\n\u001b[0;32m   <a href='file:///~/.conda/envs/Deduce_env/Lib/site-packages/openai/_base_client.py?line=1244'>1245</a>\u001b[0m     stream_cls: \u001b[39mtype\u001b[39m[_StreamT] \u001b[39m|\u001b[39m \u001b[39mNone\u001b[39;00m \u001b[39m=\u001b[39m \u001b[39mNone\u001b[39;00m,\n\u001b[0;32m   <a href='file:///~/.conda/envs/Deduce_env/Lib/site-packages/openai/_base_client.py?line=1245'>1246</a>\u001b[0m ) \u001b[39m-\u001b[39m\u001b[39m>\u001b[39m ResponseT \u001b[39m|\u001b[39m _StreamT:\n\u001b[0;32m   <a href='file:///~/.conda/envs/Deduce_env/Lib/site-packages/openai/_base_client.py?line=1246'>1247</a>\u001b[0m     opts \u001b[39m=\u001b[39m FinalRequestOptions\u001b[39m.\u001b[39mconstruct(\n\u001b[0;32m   <a href='file:///~/.conda/envs/Deduce_env/Lib/site-packages/openai/_base_client.py?line=1247'>1248</a>\u001b[0m         method\u001b[39m=\u001b[39m\u001b[39m\"\u001b[39m\u001b[39mpost\u001b[39m\u001b[39m\"\u001b[39m, url\u001b[39m=\u001b[39mpath, json_data\u001b[39m=\u001b[39mbody, files\u001b[39m=\u001b[39mto_httpx_files(files), \u001b[39m*\u001b[39m\u001b[39m*\u001b[39moptions\n\u001b[0;32m   <a href='file:///~/.conda/envs/Deduce_env/Lib/site-packages/openai/_base_client.py?line=1248'>1249</a>\u001b[0m     )\n\u001b[1;32m-> <a href='file:///~/.conda/envs/Deduce_env/Lib/site-packages/openai/_base_client.py?line=1249'>1250</a>\u001b[0m     \u001b[39mreturn\u001b[39;00m cast(ResponseT, \u001b[39mself\u001b[39;49m\u001b[39m.\u001b[39;49mrequest(cast_to, opts, stream\u001b[39m=\u001b[39;49mstream, stream_cls\u001b[39m=\u001b[39;49mstream_cls))\n",
      "File \u001b[1;32m~\\.conda\\envs\\Deduce_env\\Lib\\site-packages\\openai\\_base_client.py:931\u001b[0m, in \u001b[0;36mSyncAPIClient.request\u001b[1;34m(self, cast_to, options, remaining_retries, stream, stream_cls)\u001b[0m\n\u001b[0;32m    <a href='file:///~/.conda/envs/Deduce_env/Lib/site-packages/openai/_base_client.py?line=921'>922</a>\u001b[0m \u001b[39mdef\u001b[39;00m \u001b[39mrequest\u001b[39m(\n\u001b[0;32m    <a href='file:///~/.conda/envs/Deduce_env/Lib/site-packages/openai/_base_client.py?line=922'>923</a>\u001b[0m     \u001b[39mself\u001b[39m,\n\u001b[0;32m    <a href='file:///~/.conda/envs/Deduce_env/Lib/site-packages/openai/_base_client.py?line=923'>924</a>\u001b[0m     cast_to: Type[ResponseT],\n\u001b[1;32m   (...)\u001b[0m\n\u001b[0;32m    <a href='file:///~/.conda/envs/Deduce_env/Lib/site-packages/openai/_base_client.py?line=928'>929</a>\u001b[0m     stream_cls: \u001b[39mtype\u001b[39m[_StreamT] \u001b[39m|\u001b[39m \u001b[39mNone\u001b[39;00m \u001b[39m=\u001b[39m \u001b[39mNone\u001b[39;00m,\n\u001b[0;32m    <a href='file:///~/.conda/envs/Deduce_env/Lib/site-packages/openai/_base_client.py?line=929'>930</a>\u001b[0m ) \u001b[39m-\u001b[39m\u001b[39m>\u001b[39m ResponseT \u001b[39m|\u001b[39m _StreamT:\n\u001b[1;32m--> <a href='file:///~/.conda/envs/Deduce_env/Lib/site-packages/openai/_base_client.py?line=930'>931</a>\u001b[0m     \u001b[39mreturn\u001b[39;00m \u001b[39mself\u001b[39;49m\u001b[39m.\u001b[39;49m_request(\n\u001b[0;32m    <a href='file:///~/.conda/envs/Deduce_env/Lib/site-packages/openai/_base_client.py?line=931'>932</a>\u001b[0m         cast_to\u001b[39m=\u001b[39;49mcast_to,\n\u001b[0;32m    <a href='file:///~/.conda/envs/Deduce_env/Lib/site-packages/openai/_base_client.py?line=932'>933</a>\u001b[0m         options\u001b[39m=\u001b[39;49moptions,\n\u001b[0;32m    <a href='file:///~/.conda/envs/Deduce_env/Lib/site-packages/openai/_base_client.py?line=933'>934</a>\u001b[0m         stream\u001b[39m=\u001b[39;49mstream,\n\u001b[0;32m    <a href='file:///~/.conda/envs/Deduce_env/Lib/site-packages/openai/_base_client.py?line=934'>935</a>\u001b[0m         stream_cls\u001b[39m=\u001b[39;49mstream_cls,\n\u001b[0;32m    <a href='file:///~/.conda/envs/Deduce_env/Lib/site-packages/openai/_base_client.py?line=935'>936</a>\u001b[0m         remaining_retries\u001b[39m=\u001b[39;49mremaining_retries,\n\u001b[0;32m    <a href='file:///~/.conda/envs/Deduce_env/Lib/site-packages/openai/_base_client.py?line=936'>937</a>\u001b[0m     )\n",
      "File \u001b[1;32m~\\.conda\\envs\\Deduce_env\\Lib\\site-packages\\openai\\_base_client.py:986\u001b[0m, in \u001b[0;36mSyncAPIClient._request\u001b[1;34m(self, cast_to, options, remaining_retries, stream, stream_cls)\u001b[0m\n\u001b[0;32m    <a href='file:///~/.conda/envs/Deduce_env/Lib/site-packages/openai/_base_client.py?line=982'>983</a>\u001b[0m log\u001b[39m.\u001b[39mdebug(\u001b[39m\"\u001b[39m\u001b[39mEncountered Exception\u001b[39m\u001b[39m\"\u001b[39m, exc_info\u001b[39m=\u001b[39m\u001b[39mTrue\u001b[39;00m)\n\u001b[0;32m    <a href='file:///~/.conda/envs/Deduce_env/Lib/site-packages/openai/_base_client.py?line=984'>985</a>\u001b[0m \u001b[39mif\u001b[39;00m retries \u001b[39m>\u001b[39m \u001b[39m0\u001b[39m:\n\u001b[1;32m--> <a href='file:///~/.conda/envs/Deduce_env/Lib/site-packages/openai/_base_client.py?line=985'>986</a>\u001b[0m     \u001b[39mreturn\u001b[39;00m \u001b[39mself\u001b[39;49m\u001b[39m.\u001b[39;49m_retry_request(\n\u001b[0;32m    <a href='file:///~/.conda/envs/Deduce_env/Lib/site-packages/openai/_base_client.py?line=986'>987</a>\u001b[0m         options,\n\u001b[0;32m    <a href='file:///~/.conda/envs/Deduce_env/Lib/site-packages/openai/_base_client.py?line=987'>988</a>\u001b[0m         cast_to,\n\u001b[0;32m    <a href='file:///~/.conda/envs/Deduce_env/Lib/site-packages/openai/_base_client.py?line=988'>989</a>\u001b[0m         retries,\n\u001b[0;32m    <a href='file:///~/.conda/envs/Deduce_env/Lib/site-packages/openai/_base_client.py?line=989'>990</a>\u001b[0m         stream\u001b[39m=\u001b[39;49mstream,\n\u001b[0;32m    <a href='file:///~/.conda/envs/Deduce_env/Lib/site-packages/openai/_base_client.py?line=990'>991</a>\u001b[0m         stream_cls\u001b[39m=\u001b[39;49mstream_cls,\n\u001b[0;32m    <a href='file:///~/.conda/envs/Deduce_env/Lib/site-packages/openai/_base_client.py?line=991'>992</a>\u001b[0m         response_headers\u001b[39m=\u001b[39;49m\u001b[39mNone\u001b[39;49;00m,\n\u001b[0;32m    <a href='file:///~/.conda/envs/Deduce_env/Lib/site-packages/openai/_base_client.py?line=992'>993</a>\u001b[0m     )\n\u001b[0;32m    <a href='file:///~/.conda/envs/Deduce_env/Lib/site-packages/openai/_base_client.py?line=994'>995</a>\u001b[0m log\u001b[39m.\u001b[39mdebug(\u001b[39m\"\u001b[39m\u001b[39mRaising connection error\u001b[39m\u001b[39m\"\u001b[39m)\n\u001b[0;32m    <a href='file:///~/.conda/envs/Deduce_env/Lib/site-packages/openai/_base_client.py?line=995'>996</a>\u001b[0m \u001b[39mraise\u001b[39;00m APIConnectionError(request\u001b[39m=\u001b[39mrequest) \u001b[39mfrom\u001b[39;00m \u001b[39merr\u001b[39;00m\n",
      "File \u001b[1;32m~\\.conda\\envs\\Deduce_env\\Lib\\site-packages\\openai\\_base_client.py:1063\u001b[0m, in \u001b[0;36mSyncAPIClient._retry_request\u001b[1;34m(self, options, cast_to, remaining_retries, response_headers, stream, stream_cls)\u001b[0m\n\u001b[0;32m   <a href='file:///~/.conda/envs/Deduce_env/Lib/site-packages/openai/_base_client.py?line=1058'>1059</a>\u001b[0m \u001b[39m# In a synchronous context we are blocking the entire thread. Up to the library user to run the client in a\u001b[39;00m\n\u001b[0;32m   <a href='file:///~/.conda/envs/Deduce_env/Lib/site-packages/openai/_base_client.py?line=1059'>1060</a>\u001b[0m \u001b[39m# different thread if necessary.\u001b[39;00m\n\u001b[0;32m   <a href='file:///~/.conda/envs/Deduce_env/Lib/site-packages/openai/_base_client.py?line=1060'>1061</a>\u001b[0m time\u001b[39m.\u001b[39msleep(timeout)\n\u001b[1;32m-> <a href='file:///~/.conda/envs/Deduce_env/Lib/site-packages/openai/_base_client.py?line=1062'>1063</a>\u001b[0m \u001b[39mreturn\u001b[39;00m \u001b[39mself\u001b[39;49m\u001b[39m.\u001b[39;49m_request(\n\u001b[0;32m   <a href='file:///~/.conda/envs/Deduce_env/Lib/site-packages/openai/_base_client.py?line=1063'>1064</a>\u001b[0m     options\u001b[39m=\u001b[39;49moptions,\n\u001b[0;32m   <a href='file:///~/.conda/envs/Deduce_env/Lib/site-packages/openai/_base_client.py?line=1064'>1065</a>\u001b[0m     cast_to\u001b[39m=\u001b[39;49mcast_to,\n\u001b[0;32m   <a href='file:///~/.conda/envs/Deduce_env/Lib/site-packages/openai/_base_client.py?line=1065'>1066</a>\u001b[0m     remaining_retries\u001b[39m=\u001b[39;49mremaining,\n\u001b[0;32m   <a href='file:///~/.conda/envs/Deduce_env/Lib/site-packages/openai/_base_client.py?line=1066'>1067</a>\u001b[0m     stream\u001b[39m=\u001b[39;49mstream,\n\u001b[0;32m   <a href='file:///~/.conda/envs/Deduce_env/Lib/site-packages/openai/_base_client.py?line=1067'>1068</a>\u001b[0m     stream_cls\u001b[39m=\u001b[39;49mstream_cls,\n\u001b[0;32m   <a href='file:///~/.conda/envs/Deduce_env/Lib/site-packages/openai/_base_client.py?line=1068'>1069</a>\u001b[0m )\n",
      "File \u001b[1;32m~\\.conda\\envs\\Deduce_env\\Lib\\site-packages\\openai\\_base_client.py:986\u001b[0m, in \u001b[0;36mSyncAPIClient._request\u001b[1;34m(self, cast_to, options, remaining_retries, stream, stream_cls)\u001b[0m\n\u001b[0;32m    <a href='file:///~/.conda/envs/Deduce_env/Lib/site-packages/openai/_base_client.py?line=982'>983</a>\u001b[0m log\u001b[39m.\u001b[39mdebug(\u001b[39m\"\u001b[39m\u001b[39mEncountered Exception\u001b[39m\u001b[39m\"\u001b[39m, exc_info\u001b[39m=\u001b[39m\u001b[39mTrue\u001b[39;00m)\n\u001b[0;32m    <a href='file:///~/.conda/envs/Deduce_env/Lib/site-packages/openai/_base_client.py?line=984'>985</a>\u001b[0m \u001b[39mif\u001b[39;00m retries \u001b[39m>\u001b[39m \u001b[39m0\u001b[39m:\n\u001b[1;32m--> <a href='file:///~/.conda/envs/Deduce_env/Lib/site-packages/openai/_base_client.py?line=985'>986</a>\u001b[0m     \u001b[39mreturn\u001b[39;00m \u001b[39mself\u001b[39;49m\u001b[39m.\u001b[39;49m_retry_request(\n\u001b[0;32m    <a href='file:///~/.conda/envs/Deduce_env/Lib/site-packages/openai/_base_client.py?line=986'>987</a>\u001b[0m         options,\n\u001b[0;32m    <a href='file:///~/.conda/envs/Deduce_env/Lib/site-packages/openai/_base_client.py?line=987'>988</a>\u001b[0m         cast_to,\n\u001b[0;32m    <a href='file:///~/.conda/envs/Deduce_env/Lib/site-packages/openai/_base_client.py?line=988'>989</a>\u001b[0m         retries,\n\u001b[0;32m    <a href='file:///~/.conda/envs/Deduce_env/Lib/site-packages/openai/_base_client.py?line=989'>990</a>\u001b[0m         stream\u001b[39m=\u001b[39;49mstream,\n\u001b[0;32m    <a href='file:///~/.conda/envs/Deduce_env/Lib/site-packages/openai/_base_client.py?line=990'>991</a>\u001b[0m         stream_cls\u001b[39m=\u001b[39;49mstream_cls,\n\u001b[0;32m    <a href='file:///~/.conda/envs/Deduce_env/Lib/site-packages/openai/_base_client.py?line=991'>992</a>\u001b[0m         response_headers\u001b[39m=\u001b[39;49m\u001b[39mNone\u001b[39;49;00m,\n\u001b[0;32m    <a href='file:///~/.conda/envs/Deduce_env/Lib/site-packages/openai/_base_client.py?line=992'>993</a>\u001b[0m     )\n\u001b[0;32m    <a href='file:///~/.conda/envs/Deduce_env/Lib/site-packages/openai/_base_client.py?line=994'>995</a>\u001b[0m log\u001b[39m.\u001b[39mdebug(\u001b[39m\"\u001b[39m\u001b[39mRaising connection error\u001b[39m\u001b[39m\"\u001b[39m)\n\u001b[0;32m    <a href='file:///~/.conda/envs/Deduce_env/Lib/site-packages/openai/_base_client.py?line=995'>996</a>\u001b[0m \u001b[39mraise\u001b[39;00m APIConnectionError(request\u001b[39m=\u001b[39mrequest) \u001b[39mfrom\u001b[39;00m \u001b[39merr\u001b[39;00m\n",
      "File \u001b[1;32m~\\.conda\\envs\\Deduce_env\\Lib\\site-packages\\openai\\_base_client.py:1063\u001b[0m, in \u001b[0;36mSyncAPIClient._retry_request\u001b[1;34m(self, options, cast_to, remaining_retries, response_headers, stream, stream_cls)\u001b[0m\n\u001b[0;32m   <a href='file:///~/.conda/envs/Deduce_env/Lib/site-packages/openai/_base_client.py?line=1058'>1059</a>\u001b[0m \u001b[39m# In a synchronous context we are blocking the entire thread. Up to the library user to run the client in a\u001b[39;00m\n\u001b[0;32m   <a href='file:///~/.conda/envs/Deduce_env/Lib/site-packages/openai/_base_client.py?line=1059'>1060</a>\u001b[0m \u001b[39m# different thread if necessary.\u001b[39;00m\n\u001b[0;32m   <a href='file:///~/.conda/envs/Deduce_env/Lib/site-packages/openai/_base_client.py?line=1060'>1061</a>\u001b[0m time\u001b[39m.\u001b[39msleep(timeout)\n\u001b[1;32m-> <a href='file:///~/.conda/envs/Deduce_env/Lib/site-packages/openai/_base_client.py?line=1062'>1063</a>\u001b[0m \u001b[39mreturn\u001b[39;00m \u001b[39mself\u001b[39;49m\u001b[39m.\u001b[39;49m_request(\n\u001b[0;32m   <a href='file:///~/.conda/envs/Deduce_env/Lib/site-packages/openai/_base_client.py?line=1063'>1064</a>\u001b[0m     options\u001b[39m=\u001b[39;49moptions,\n\u001b[0;32m   <a href='file:///~/.conda/envs/Deduce_env/Lib/site-packages/openai/_base_client.py?line=1064'>1065</a>\u001b[0m     cast_to\u001b[39m=\u001b[39;49mcast_to,\n\u001b[0;32m   <a href='file:///~/.conda/envs/Deduce_env/Lib/site-packages/openai/_base_client.py?line=1065'>1066</a>\u001b[0m     remaining_retries\u001b[39m=\u001b[39;49mremaining,\n\u001b[0;32m   <a href='file:///~/.conda/envs/Deduce_env/Lib/site-packages/openai/_base_client.py?line=1066'>1067</a>\u001b[0m     stream\u001b[39m=\u001b[39;49mstream,\n\u001b[0;32m   <a href='file:///~/.conda/envs/Deduce_env/Lib/site-packages/openai/_base_client.py?line=1067'>1068</a>\u001b[0m     stream_cls\u001b[39m=\u001b[39;49mstream_cls,\n\u001b[0;32m   <a href='file:///~/.conda/envs/Deduce_env/Lib/site-packages/openai/_base_client.py?line=1068'>1069</a>\u001b[0m )\n",
      "File \u001b[1;32m~\\.conda\\envs\\Deduce_env\\Lib\\site-packages\\openai\\_base_client.py:996\u001b[0m, in \u001b[0;36mSyncAPIClient._request\u001b[1;34m(self, cast_to, options, remaining_retries, stream, stream_cls)\u001b[0m\n\u001b[0;32m    <a href='file:///~/.conda/envs/Deduce_env/Lib/site-packages/openai/_base_client.py?line=985'>986</a>\u001b[0m         \u001b[39mreturn\u001b[39;00m \u001b[39mself\u001b[39m\u001b[39m.\u001b[39m_retry_request(\n\u001b[0;32m    <a href='file:///~/.conda/envs/Deduce_env/Lib/site-packages/openai/_base_client.py?line=986'>987</a>\u001b[0m             options,\n\u001b[0;32m    <a href='file:///~/.conda/envs/Deduce_env/Lib/site-packages/openai/_base_client.py?line=987'>988</a>\u001b[0m             cast_to,\n\u001b[1;32m   (...)\u001b[0m\n\u001b[0;32m    <a href='file:///~/.conda/envs/Deduce_env/Lib/site-packages/openai/_base_client.py?line=991'>992</a>\u001b[0m             response_headers\u001b[39m=\u001b[39m\u001b[39mNone\u001b[39;00m,\n\u001b[0;32m    <a href='file:///~/.conda/envs/Deduce_env/Lib/site-packages/openai/_base_client.py?line=992'>993</a>\u001b[0m         )\n\u001b[0;32m    <a href='file:///~/.conda/envs/Deduce_env/Lib/site-packages/openai/_base_client.py?line=994'>995</a>\u001b[0m     log\u001b[39m.\u001b[39mdebug(\u001b[39m\"\u001b[39m\u001b[39mRaising connection error\u001b[39m\u001b[39m\"\u001b[39m)\n\u001b[1;32m--> <a href='file:///~/.conda/envs/Deduce_env/Lib/site-packages/openai/_base_client.py?line=995'>996</a>\u001b[0m     \u001b[39mraise\u001b[39;00m APIConnectionError(request\u001b[39m=\u001b[39mrequest) \u001b[39mfrom\u001b[39;00m \u001b[39merr\u001b[39;00m\n\u001b[0;32m    <a href='file:///~/.conda/envs/Deduce_env/Lib/site-packages/openai/_base_client.py?line=997'>998</a>\u001b[0m log\u001b[39m.\u001b[39mdebug(\n\u001b[0;32m    <a href='file:///~/.conda/envs/Deduce_env/Lib/site-packages/openai/_base_client.py?line=998'>999</a>\u001b[0m     \u001b[39m'\u001b[39m\u001b[39mHTTP Response: \u001b[39m\u001b[39m%s\u001b[39;00m\u001b[39m \u001b[39m\u001b[39m%s\u001b[39;00m\u001b[39m \u001b[39m\u001b[39m\"\u001b[39m\u001b[39m%i\u001b[39;00m\u001b[39m \u001b[39m\u001b[39m%s\u001b[39;00m\u001b[39m\"\u001b[39m\u001b[39m \u001b[39m\u001b[39m%s\u001b[39;00m\u001b[39m'\u001b[39m,\n\u001b[0;32m   <a href='file:///~/.conda/envs/Deduce_env/Lib/site-packages/openai/_base_client.py?line=999'>1000</a>\u001b[0m     request\u001b[39m.\u001b[39mmethod,\n\u001b[1;32m   (...)\u001b[0m\n\u001b[0;32m   <a href='file:///~/.conda/envs/Deduce_env/Lib/site-packages/openai/_base_client.py?line=1003'>1004</a>\u001b[0m     response\u001b[39m.\u001b[39mheaders,\n\u001b[0;32m   <a href='file:///~/.conda/envs/Deduce_env/Lib/site-packages/openai/_base_client.py?line=1004'>1005</a>\u001b[0m )\n\u001b[0;32m   <a href='file:///~/.conda/envs/Deduce_env/Lib/site-packages/openai/_base_client.py?line=1005'>1006</a>\u001b[0m log\u001b[39m.\u001b[39mdebug(\u001b[39m\"\u001b[39m\u001b[39mrequest_id: \u001b[39m\u001b[39m%s\u001b[39;00m\u001b[39m\"\u001b[39m, response\u001b[39m.\u001b[39mheaders\u001b[39m.\u001b[39mget(\u001b[39m\"\u001b[39m\u001b[39mx-request-id\u001b[39m\u001b[39m\"\u001b[39m))\n",
      "\u001b[1;31mAPIConnectionError\u001b[0m: Connection error."
     ]
    }
   ],
   "source": [
    "rapport_generator(\"jan jansen\")"
   ]
  },
  {
   "cell_type": "markdown",
   "id": "aa16f134",
   "metadata": {},
   "source": [
    "# Maak de dataset en exporteer"
   ]
  },
  {
   "cell_type": "code",
   "execution_count": 26,
   "id": "1ee3efbb",
   "metadata": {},
   "outputs": [
    {
     "name": "stdout",
     "output_type": "stream",
     "text": [
      "Liv Goedhart-Wildschut\n",
      "Hendrik van de Ven\n",
      "Hendrik van de Ven\n",
      "Lizzy Molenaar\n",
      "Tom Verheij\n",
      "Liv Goedhart-Wildschut\n",
      "Hailey Mathieu\n",
      "Hendrik van de Ven\n",
      "Jenna Stoffel-van Oosten\n",
      "Jari Glasses\n",
      "Tom Verheij\n",
      "Hailey Mathieu\n",
      "Tom Verheij\n",
      "Hailey Mathieu\n",
      "Lizzy Molenaar\n",
      "Ivan Janse\n",
      "Noortje van Boven\n",
      "Noortje van Boven\n",
      "Liv Goedhart-Wildschut\n",
      "Noortje van Boven\n",
      "Jenna Stoffel-van Oosten\n",
      "Milan Prinsen\n",
      "Ivan Janse\n",
      "Milan Prinsen\n",
      "Milan Prinsen\n",
      "Jenna Stoffel-van Oosten\n",
      "Jari Glasses\n",
      "Jari Glasses\n",
      "Lizzy Molenaar\n",
      "Ivan Janse\n",
      "                  Cliëntnaam          Tijdstip Zorgverlener ID  \\\n",
      "0     Liv Goedhart-Wildschut  2021-05-04 04:48           ZV104   \n",
      "1         Hendrik van de Ven  2021-05-18 08:00           ZV104   \n",
      "2         Hendrik van de Ven  2021-07-30 02:15           ZV101   \n",
      "3             Lizzy Molenaar  2021-08-30 10:40           ZV103   \n",
      "4                Tom Verheij  2021-11-28 07:17           ZV105   \n",
      "5     Liv Goedhart-Wildschut  2022-01-19 09:41           ZV104   \n",
      "6             Hailey Mathieu  2022-01-25 04:56           ZV104   \n",
      "7         Hendrik van de Ven  2022-02-12 08:59           ZV103   \n",
      "8   Jenna Stoffel-van Oosten  2022-04-18 15:18           ZV104   \n",
      "9               Jari Glasses  2022-04-24 06:44           ZV103   \n",
      "10               Tom Verheij  2022-07-13 22:43           ZV105   \n",
      "11            Hailey Mathieu  2022-09-05 19:07           ZV102   \n",
      "12               Tom Verheij  2022-10-07 14:48           ZV105   \n",
      "13            Hailey Mathieu  2022-10-25 18:30           ZV102   \n",
      "14            Lizzy Molenaar  2022-11-10 12:12           ZV103   \n",
      "15                Ivan Janse  2022-12-25 04:02           ZV102   \n",
      "16         Noortje van Boven  2022-12-27 23:34           ZV101   \n",
      "17         Noortje van Boven  2023-01-14 18:44           ZV105   \n",
      "18    Liv Goedhart-Wildschut  2023-05-05 01:21           ZV103   \n",
      "19         Noortje van Boven  2023-06-16 03:23           ZV105   \n",
      "20  Jenna Stoffel-van Oosten  2023-06-30 13:01           ZV105   \n",
      "21             Milan Prinsen  2023-09-30 00:11           ZV102   \n",
      "22                Ivan Janse  2023-10-02 00:47           ZV103   \n",
      "23             Milan Prinsen  2023-10-23 17:55           ZV101   \n",
      "24             Milan Prinsen  2023-12-07 02:02           ZV101   \n",
      "25  Jenna Stoffel-van Oosten  2023-12-09 14:20           ZV103   \n",
      "26              Jari Glasses  2023-12-12 17:46           ZV104   \n",
      "27              Jari Glasses  2024-02-19 01:44           ZV105   \n",
      "28            Lizzy Molenaar  2024-03-27 01:52           ZV101   \n",
      "29                Ivan Janse  2024-03-28 02:25           ZV103   \n",
      "\n",
      "                                              rapport  \n",
      "0   Vandaag was een goede dag voor Liv Goedhart-Wi...  \n",
      "1   Vandaag had Hendrik van de Ven een goede dag. ...  \n",
      "2   Vandaag heeft Hendrik van de Ven een goede dag...  \n",
      "3   Vandaag begon Lizzy de dag met een positieve h...  \n",
      "4   Vandaag was een goede dag voor Tom Verheij. Hi...  \n",
      "5   Vandaag was een rustige dag voor Liv Goedhart-...  \n",
      "6   Vandaag was een goede dag voor Hailey Mathieu....  \n",
      "7   Vandaag heeft Hendrik van de Ven genoten van e...  \n",
      "8   Vandaag was een goede dag voor Jenna Stoffel-v...  \n",
      "9   Vandaag was een goede dag voor Jari Glasses. H...  \n",
      "10  Op 15 juli 2023 begon de dag voor Tom Verheij ...  \n",
      "11  Vandaag was een goede dag voor Hailey Mathieu....  \n",
      "12  Vandaag was een goede dag voor Tom Verheij. Hi...  \n",
      "13  Vandaag was Hailey Mathieu erg vrolijk en enth...  \n",
      "14  Vandaag begon Lizzy de dag met haar favoriete ...  \n",
      "15  Op 25 mei 2023 heeft Ivan Janse een rustige da...  \n",
      "16  Vandaag was een goede dag voor Noortje. Ze sto...  \n",
      "17  Vandaag was een goede dag voor Noortje. Ze beg...  \n",
      "18  Vandaag had Liv een goede dag. Ze begon de och...  \n",
      "19  Vandaag had Noortje een goede dag. Ze genoot v...  \n",
      "20  Vandaag heeft Jenna Stoffel-van Oosten een rus...  \n",
      "21  Vandaag was een goede dag voor Milan Prinsen. ...  \n",
      "22  Vandaag heeft Ivan Janse genoten van een rusti...  \n",
      "23  Vandaag had Milan Prinsen een goede dag. Hij b...  \n",
      "24  Vandaag heeft Milan Prinsen een productieve da...  \n",
      "25  Vandaag was een goede dag voor Jenna Stoffel-v...  \n",
      "26  Vandaag begon Jari de dag met een goed humeur....  \n",
      "27  Vandaag was een goede dag voor Jari Glasses. H...  \n",
      "28  Vandaag was een goede dag voor Lizzy. Ze was r...  \n",
      "29  Vandaag had Ivan Janse een goede dag. Hij geno...  \n"
     ]
    }
   ],
   "source": [
    "df_sorted['rapport'] = df_sorted['Cliëntnaam'].apply(rapport_generator)\n",
    "print(df_sorted)"
   ]
  },
  {
   "cell_type": "code",
   "execution_count": 30,
   "id": "f8422a62",
   "metadata": {},
   "outputs": [
    {
     "name": "stdout",
     "output_type": "stream",
     "text": [
      "Bestand opgeslagen op: ECD_dummy_dataset_20240502_161537.csv\n"
     ]
    }
   ],
   "source": [
    "\n",
    "# Gebruik datetime om de huidige datum en tijd te verkrijgen en formatteren\n",
    "current_time = datetime.now().strftime('%Y%m%d_%H%M%S')\n",
    "\n",
    "# Maak een pad voor het opslaan van het bestand, inclusief de huidige datum en tijd\n",
    "csv_path = f'ECD_dummy_dataset_{current_time}.csv'\n",
    "\n",
    "# Exporteer het DataFrame naar een CSV-bestand zonder index\n",
    "df_sorted.to_csv(csv_path, index=False)\n",
    "\n",
    "# Print het pad waar het bestand is opgeslagen\n",
    "print(f'Bestand opgeslagen op: {csv_path}')"
   ]
  },
  {
   "cell_type": "code",
   "execution_count": null,
   "id": "ccae29b6",
   "metadata": {},
   "outputs": [],
   "source": []
  }
 ],
 "metadata": {
  "kernelspec": {
   "display_name": "Python 3 (ipykernel)",
   "language": "python",
   "name": "python3"
  },
  "language_info": {
   "codemirror_mode": {
    "name": "ipython",
    "version": 3
   },
   "file_extension": ".py",
   "mimetype": "text/x-python",
   "name": "python",
   "nbconvert_exporter": "python",
   "pygments_lexer": "ipython3",
   "version": "3.11.8"
  }
 },
 "nbformat": 4,
 "nbformat_minor": 5
}
